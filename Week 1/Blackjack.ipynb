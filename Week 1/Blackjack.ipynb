{
 "cells": [
  {
   "cell_type": "code",
   "execution_count": 3,
   "metadata": {},
   "outputs": [],
   "source": [
    "import numpy as np\n",
    "import matplotlib\n",
    "matplotlib.use('Agg')\n",
    "import matplotlib.pyplot as plt\n",
    "import seaborn as sns\n",
    "import tqdm"
   ]
  },
  {
   "cell_type": "code",
   "execution_count": 4,
   "metadata": {},
   "outputs": [],
   "source": [
    "#Actions: hit and stick\n",
    "actionHit = 0\n",
    "actionStick = 1\n",
    "actions = [actionHit, actionStick]"
   ]
  },
  {
   "cell_type": "code",
   "execution_count": 14,
   "metadata": {},
   "outputs": [],
   "source": [
    "#policy for the player\n",
    "policyPlayer = np.zeros(22)\n",
    "for i in range(12, 20):\n",
    "    policyPlayer[i] = actionHit\n",
    "policyPlayer[20] = actionStick\n",
    "policyPlayer[21] = actionStick"
   ]
  },
  {
   "cell_type": "code",
   "execution_count": 7,
   "metadata": {},
   "outputs": [],
   "source": [
    "#function form of target policy of the player\n",
    "def targetPolicyPlayer(usableAcePlayer, playerSum, dealerCard):\n",
    "    return policyPlayer[playerSum]"
   ]
  },
  {
   "cell_type": "code",
   "execution_count": 13,
   "metadata": {},
   "outputs": [],
   "source": [
    "#function form of behaviour policy of the player\n",
    "def behaviourPolicyPlayer(usableAcePlayer, playerSum, dealerCard):\n",
    "    if np.random.binomial(1, 0.5) == actionStick:\n",
    "        return actionStick\n",
    "    return actionHit"
   ]
  },
  {
   "cell_type": "code",
   "execution_count": 15,
   "metadata": {},
   "outputs": [],
   "source": [
    "#policy for dealer\n",
    "policyDealer = np.zeros(22)\n",
    "for i in range(12, 17):\n",
    "    policyDealer[i] = actionHit\n",
    "for i in range(17, 22):\n",
    "    policyDealer[i] = actionStick"
   ]
  },
  {
   "cell_type": "code",
   "execution_count": 17,
   "metadata": {},
   "outputs": [],
   "source": [
    "#function to get new card\n",
    "def getCard():\n",
    "    card = np.random.choice(1, 14)\n",
    "    card = min(card, 10) #face cards have value equal to 10\n",
    "    return card\n",
    "\n",
    "#function to get value of a card\n",
    "def cardValue(cardid):\n",
    "    return 11 if cardid == 1 else cardid"
   ]
  },
  {
   "cell_type": "code",
   "execution_count": null,
   "metadata": {},
   "outputs": [],
   "source": [
    "def play(policyPlayer, initialState = None, initialAction = None):\n",
    "    #player Status \n",
    "    #Sum of player cards\n",
    "    playerSum = 0\n",
    "    \n",
    "    #Trajectory of player\n",
    "    playerTrajectory = []\n",
    "    \n",
    "    #Usable ace or not\n",
    "    useableAcePlayer = False\n",
    "    \n",
    "    #Dealer Status\n",
    "    dealerCard1 = 0\n",
    "    dealerCard2 = 0\n",
    "    useableAceDealer = False\n",
    "    \n",
    "    if initialState is None:\n",
    "        #Generate random initial State\n",
    "        \n",
    "        while playerSum < 12:\n",
    "            card = getCard()\n",
    "            playerSum += cardValue(card)\n",
    "            \n",
    "            if playerSum > 21:\n",
    "                assert playerSum == 22 #Last card must be ace\n",
    "                playerSum -= 10\n",
    "            else:\n",
    "                useableAcePlayer |= (1 == card)\n",
    "        \n",
    "        dealerCard1 = getCard()\n",
    "        dealerCard2 = getCard()\n",
    "        \n",
    "    else:\n",
    "        #Use specified initial state\n",
    "        useableAcePlayer, playerSum, dealerCard1 = initialState\n",
    "        dealerCard2 = getCard()\n",
    "        \n",
    "    state = [useableAcePlayer, playerSum, dealerCard1]\n",
    "    \n",
    "    dealerSum = cardValue(dealerCard1) + cardValue(dealerCard2)\n",
    "    useableAceDealer = 1 in (dealerCard1, dealerCard2)\n",
    "    \n",
    "    #if the sum is greater than 21, dealer must hold 2 aces\n",
    "    if dealerSum > 21:\n",
    "        assert dealerSum == 22\n",
    "        dealerSum -= 10 # Use one ace 1 rather than 11\n",
    "    assert dealerSum <= 21\n",
    "    assert playerSum <= 21\n",
    "    \n",
    "    #Game starts\n",
    "    \n",
    "    #Player's Turn\n",
    "    while True:\n",
    "        if initialAction is not None:\n",
    "            action = initialAction\n",
    "            initialAction = None\n",
    "        else:\n",
    "            #get action based on current turn\n",
    "            action = policyPlayer(useableAcePlayer, playerSum, dealerCard1)\n",
    "            \n",
    "        #track player's tracjectory for importance sampling \n",
    "        playerTrajectory.append([(useableAcePlayer, playerSum, dealerCard1), action])\n",
    "        \n",
    "        if action == actionStick:\n",
    "            break\n",
    "    "
   ]
  },
  {
   "cell_type": "code",
   "execution_count": null,
   "metadata": {},
   "outputs": [],
   "source": [
    "    "
   ]
  },
  {
   "cell_type": "code",
   "execution_count": null,
   "metadata": {},
   "outputs": [],
   "source": []
  },
  {
   "cell_type": "code",
   "execution_count": null,
   "metadata": {},
   "outputs": [],
   "source": []
  },
  {
   "cell_type": "code",
   "execution_count": null,
   "metadata": {},
   "outputs": [],
   "source": []
  },
  {
   "cell_type": "code",
   "execution_count": null,
   "metadata": {},
   "outputs": [],
   "source": []
  },
  {
   "cell_type": "code",
   "execution_count": null,
   "metadata": {},
   "outputs": [],
   "source": []
  },
  {
   "cell_type": "code",
   "execution_count": null,
   "metadata": {},
   "outputs": [],
   "source": []
  },
  {
   "cell_type": "code",
   "execution_count": null,
   "metadata": {},
   "outputs": [],
   "source": []
  }
 ],
 "metadata": {
  "kernelspec": {
   "display_name": "Python 3",
   "language": "python",
   "name": "python3"
  },
  "language_info": {
   "codemirror_mode": {
    "name": "ipython",
    "version": 3
   },
   "file_extension": ".py",
   "mimetype": "text/x-python",
   "name": "python",
   "nbconvert_exporter": "python",
   "pygments_lexer": "ipython3",
   "version": "3.7.9"
  }
 },
 "nbformat": 4,
 "nbformat_minor": 4
}
